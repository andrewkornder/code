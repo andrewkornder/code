{
 "cells": [
  {
   "cell_type": "code",
   "execution_count": null,
   "id": "8dfe8c23-a0c2-489d-a2f6-858e1c103bd6",
   "metadata": {},
   "outputs": [],
   "source": [
    "from pandas import pd\n",
    "import tensorflow as tf\n",
    "import numpy as np"
   ]
  }
 ],
 "metadata": {
  "kernelspec": {
   "display_name": "Python 3 (ipykernel)",
   "language": "python",
   "name": "python3"
  },
  "language_info": {
   "codemirror_mode": {
    "name": "ipython",
    "version": 3
   },
   "file_extension": ".py",
   "mimetype": "text/x-python",
   "name": "python",
   "nbconvert_exporter": "python",
   "pygments_lexer": "ipython3",
   "version": "3.10.4"
  }
 },
 "nbformat": 4,
 "nbformat_minor": 5
}
