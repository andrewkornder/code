{
 "cells": [
  {
   "cell_type": "code",
   "execution_count": 1,
   "id": "fc2e36d0-cfef-4ac9-bab6-162c315096ef",
   "metadata": {},
   "outputs": [],
   "source": [
    "import warnings\n",
    "warnings.filterwarnings(\"ignore\")\n",
    "\n",
    "import numpy as np, pandas as pd, sklearn\n",
    "import matplotlib.pyplot as plt\n",
    "from sklearn.dummy import DummyClassifier\n",
    "from sklearn.metrics import accuracy_score\n",
    "from sklearn.linear_model import LogisticRegression as logistic_reg\n",
    "from sklearn import preprocessing\n",
    "from sklearn.model_selection import cross_val_score\n",
    "from sklearn.ensemble import RandomForestClassifier as rf\n",
    "from sklearn.model_selection import GridSearchCV\n",
    "from sklearn.neighbors import KNeighborsClassifier as knn_model\n",
    "from sklearn.svm import SVC"
   ]
  },
  {
   "cell_type": "code",
   "execution_count": 2,
   "id": "a378c2f9-c509-4db8-a781-095a4e8d6089",
   "metadata": {},
   "outputs": [
    {
     "data": {
      "text/plain": [
       "'\\ntry models with actual age value without col for nan values\\nuse col for nans in other cols besides age\\n'"
      ]
     },
     "execution_count": 2,
     "metadata": {},
     "output_type": "execute_result"
    }
   ],
   "source": [
    "'''\n",
    "try models with actual age value without col for nan values\n",
    "use col for nans in other cols besides age\n",
    "'''"
   ]
  },
  {
   "cell_type": "code",
   "execution_count": 3,
   "id": "05578844-e7e1-4919-afe8-dc86fc47e398",
   "metadata": {},
   "outputs": [],
   "source": [
    "def scale(dfs, *args):\n",
    "    for df in dfs:\n",
    "        for col in args: \n",
    "            df[col] = preprocessing.MinMaxScaler().fit_transform(np.array(df[col]).reshape(-1, 1))"
   ]
  },
  {
   "cell_type": "code",
   "execution_count": 4,
   "id": "4bd98e62-3420-4cac-954f-230b63019d34",
   "metadata": {},
   "outputs": [],
   "source": [
    "train = pd.read_csv('train.csv')\n",
    "test = pd.read_csv('test.csv')\n",
    "\n",
    "# integer division by 10 to make a label between 1-8 for age groups, if the number is a NaN, then just replace with a median\n",
    "age_group = lambda df, m=10: ['a' + str(int(a / m)) if a == a else 'a2' for a in df['age']]\n",
    "\n",
    "for df in (train, test):\n",
    "    df.columns = [a.lower() for a in df.columns]\n",
    "   \n",
    "    df['cabin'] = [int(a[0].lower(), base=36) - 10 if type(a) is str else -1 for a in df['cabin']]\n",
    "    df['sex'] = [1 if a=='male' else -1 for a in df['sex']]\n",
    "    \n",
    "    df.index = df['passengerid']\n",
    "    df = df.drop('passengerid', axis=1)\n",
    "    \n",
    "y = train['survived']\n",
    "# train = train.drop('survived', axis=1)\n",
    "score_model = lambda model, x: accuracy_score(model.predict(x), y)\n",
    "\n",
    "scatter = lambda cols: pd.plotting.scatter_matrix(train[cols], alpha=0.2, figsize=(10,5));\n",
    "plotter = lambda col: plt.hist(train[col])\n",
    "\n",
    "numbers_cols = ['age', 'sex', 'pclass', 'sibsp', 'parch', 'fare', 'cabin']\n",
    "numbers_train = train[numbers_cols]\n",
    "numbers_test = test[numbers_cols]\n",
    "\n",
    "numbers_train['age'].fillna((numbers_train['age'].mean()), inplace=True)\n",
    "numbers_test['age'].fillna((numbers_test['age'].mean()), inplace=True)\n",
    "\n",
    "def new_col(df, df2, col, name, f): \n",
    "    df2[name] = f(df[col])\n",
    "    return df2\n",
    "\n",
    "new_col(train, numbers_train, 'age', 'agenan', lambda l: [a!=a for a in l])\n",
    "new_col(test, numbers_test, 'age', 'agenan', lambda l: [a!=a for a in l])\n",
    "\n",
    "train['age'] = age_group(train)\n",
    "test['age'] = age_group(test)\n",
    "\n",
    "numbers_test['fare'][1044] = 0.015282\n",
    "#scale((numbers_train, numbers_test), 'fare')\n",
    "\n",
    "s = lambda a: a.split(',')[1].split('.')[0].strip()\n",
    "titles = list(zip(*[('Master', 21), ('Mrs', 72), ('Miss', 78), ('Mr', 240)]))[0]\n",
    "s2 = lambda l: [s(a) if s(a) in titles else 'other' for a in l]\n",
    "train['title'] = s2(train['name'])\n",
    "test['title'] = s2(test['name'])\n",
    "\n",
    "dummies = lambda df, df2, col: df.join(pd.get_dummies(df2[col]))\n",
    "numbers_train = dummies(numbers_train, train, 'age')\n",
    "numbers_test = dummies(numbers_test, test, 'age')\n",
    "\n",
    "numbers_train = dummies(numbers_train, train, 'title')\n",
    "numbers_test = dummies(numbers_test, test, 'title')\n",
    "\n",
    "numbers_train = numbers_train.drop('a8', axis=1)"
   ]
  },
  {
   "cell_type": "code",
   "execution_count": 5,
   "id": "4ed94d5d-27ab-47f5-bb3d-a72e3f8d9085",
   "metadata": {},
   "outputs": [
    {
     "data": {
      "text/plain": [
       "(0.3842662632375189, 0.3826086956521739)"
      ]
     },
     "execution_count": 5,
     "metadata": {},
     "output_type": "execute_result"
    }
   ],
   "source": [
    "l = [(a.isnumeric(), y.iloc[i]) for i, a in enumerate(train['ticket'])]\n",
    "sum(a[1] for a in l if a[0])/sum(list(zip(*l))[0]), sum(a[1] for a in l if not a[0])/(len(l) - sum(list(zip(*l))[0]))"
   ]
  },
  {
   "cell_type": "code",
   "execution_count": 6,
   "id": "15d1359a-f4d7-45ad-a681-497b72a49970",
   "metadata": {},
   "outputs": [],
   "source": [
    "def gridsearch(model, params):\n",
    "    asda = GridSearchCV(model, params)\n",
    "    asda.fit(numbers_train, y)\n",
    "    return asda.best_params_, asda"
   ]
  },
  {
   "cell_type": "code",
   "execution_count": 7,
   "id": "906ce855-e3b0-47ab-9404-a6c815b8f7ef",
   "metadata": {},
   "outputs": [
    {
     "data": {
      "text/plain": [
       "0.6891133557800224"
      ]
     },
     "execution_count": 7,
     "metadata": {},
     "output_type": "execute_result"
    }
   ],
   "source": [
    "svm = SVC().fit(numbers_train, y)\n",
    "score_model(svm, numbers_train)"
   ]
  },
  {
   "cell_type": "code",
   "execution_count": 8,
   "id": "b90aa486-3d7e-46d8-9eff-d21da9a59bd5",
   "metadata": {},
   "outputs": [
    {
     "data": {
      "text/plain": [
       "0.8709315375982043"
      ]
     },
     "execution_count": 8,
     "metadata": {},
     "output_type": "execute_result"
    }
   ],
   "source": [
    "knn = knn_model(**{'n_neighbors': 3, 'p': 1, 'weights': 'uniform'}).fit(numbers_train, y)\n",
    "score_model(knn, numbers_train)"
   ]
  },
  {
   "cell_type": "code",
   "execution_count": 9,
   "id": "84bd9a95-9e78-44d7-8981-4b2078771818",
   "metadata": {},
   "outputs": [
    {
     "data": {
      "text/plain": [
       "0.8305274971941639"
      ]
     },
     "execution_count": 9,
     "metadata": {},
     "output_type": "execute_result"
    }
   ],
   "source": [
    "most_frequent = DummyClassifier(strategy='most_frequent').fit(train, y)\n",
    "\n",
    "log_reg = logistic_reg().fit(numbers_train, y)\n",
    "score_model(log_reg, numbers_train)"
   ]
  },
  {
   "cell_type": "code",
   "execution_count": 23,
   "id": "7519e0fc-789b-4de3-9af7-ed0c48973369",
   "metadata": {
    "tags": []
   },
   "outputs": [
    {
     "data": {
      "text/plain": [
       "0.8866442199775533"
      ]
     },
     "execution_count": 23,
     "metadata": {},
     "output_type": "execute_result"
    }
   ],
   "source": [
    "forest = \n",
    "score_model(forest, numbers_train)"
   ]
  },
  {
   "cell_type": "code",
   "execution_count": 37,
   "id": "865cb229-07db-4b96-9cac-6bf468a8bd05",
   "metadata": {},
   "outputs": [],
   "source": [
    "params = {'criterion': 'entropy',\n",
    " 'max_features': 'sqrt',\n",
    " 'min_samples_leaf': 3,\n",
    " 'n_estimators': 90}\n",
    "\n",
    "afas = lambda b: [1 if sum(a)/b >= 0.5 else 0 for a in zip(*[rf(**params).fit(numbers_train, y).predict(numbers_test) for i in range(b)])]"
   ]
  },
  {
   "cell_type": "markdown",
   "id": "97fcdd23-ad74-4012-aa6c-9d09b0bc9a27",
   "metadata": {
    "tags": []
   },
   "source": [
    "# SCORES:\n",
    "<b> Dummy (most frequent): </b>0.61  \n",
    "<b> Log Reg:</b> 0.714  \n",
    "<b> Log Reg (scaled):</b> 0.717  \n",
    "<b> Log Reg (with dummies) </b> 0.718  \n",
    "<b> Log Reg (peak) </b> 0.821  \n",
    "<b> Random Forest </b> 0.88    \n",
    "pos: 11144 => 8906 (0.76794) => 0.77511 => 0.76794 => 0.77033 => 0.67703"
   ]
  },
  {
   "cell_type": "code",
   "execution_count": 18,
   "id": "cee20e18-0b16-40c9-8c5c-f936efdd82ed",
   "metadata": {},
   "outputs": [],
   "source": [
    "def save(model):\n",
    "    pd.DataFrame(columns=['PassengerId', 'Survived'], data=zip(*[model.predict(numbers_test), numbers_test.index][::-1])).to_csv('final_results.csv', index=False)\n",
    "    pd.read_csv('final_results2.csv')"
   ]
  },
  {
   "cell_type": "code",
   "execution_count": 43,
   "id": "c699b93c-5629-46c5-8176-236ba8622d25",
   "metadata": {},
   "outputs": [],
   "source": [
    "pd.DataFrame(columns=['PassengerId', 'Survived'], data=zip(numbers_test.index, afas(5))).to_csv('final_results2.csv', index=False)"
   ]
  }
 ],
 "metadata": {
  "kernelspec": {
   "display_name": "Python 3 (ipykernel)",
   "language": "python",
   "name": "python3"
  },
  "language_info": {
   "codemirror_mode": {
    "name": "ipython",
    "version": 3
   },
   "file_extension": ".py",
   "mimetype": "text/x-python",
   "name": "python",
   "nbconvert_exporter": "python",
   "pygments_lexer": "ipython3",
   "version": "3.10.4"
  }
 },
 "nbformat": 4,
 "nbformat_minor": 5
}
