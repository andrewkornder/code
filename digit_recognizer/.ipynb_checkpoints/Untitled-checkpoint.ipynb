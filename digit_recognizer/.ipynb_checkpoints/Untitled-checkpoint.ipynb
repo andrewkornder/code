{
 "cells": [
  {
   "cell_type": "raw",
   "id": "4d84fdcd-6808-4a52-a789-fc27985adc89",
   "metadata": {},
   "source": [
    "Results\n",
    "# 981: 95.835%\n",
    "# 825: 96.857% (more epochs [30, 10] => [100, 50])\n",
    "# 778: 97.189% (metric change from \"accuracy\" to keras.metrics.SparseCategoricalAccuracy)\n",
    "\n",
    "notes:\n",
    "- using batch_size = 5 resulted in the network overfitting and scoring a 9.896%"
   ]
  },
  {
   "cell_type": "code",
   "execution_count": null,
   "id": "d49064de-efaa-415f-ac17-b1f86415d446",
   "metadata": {
    "tags": []
   },
   "outputs": [],
   "source": [
    "'''\n",
    "TODO:\n",
    "\n",
    "- replace each pixel value with some scaled distance to nearest activated pixel\n",
    "- maybe convert to vector graphics?\n",
    "- second model to differentiate between closely related images\n",
    "- play around w loss_fn, activation funcs, optimizers and hidden layer sizes\n",
    "- threading to train many model at once for a kinda gridsearch for batch_size and epochs\n",
    "'''"
   ]
  },
  {
   "cell_type": "code",
   "execution_count": 2,
   "id": "75e38498-ebb0-4a9a-bb70-4a10f3102fed",
   "metadata": {},
   "outputs": [],
   "source": [
    "from tensorflow.keras.models import Sequential\n",
    "from tensorflow.keras.layers import Dense\n",
    "from tensorflow import keras\n",
    "import numpy as np\n",
    "import pandas as pd\n",
    "from collections import Counter\n",
    "from PIL import Image\n",
    "\n",
    "train = pd.read_csv('train.csv')\n",
    "test = pd.read_csv('test.csv')\n",
    "\n",
    "y = np.asarray(train['label']).astype('int32').reshape((-1,1))\n",
    "train = train.drop('label', axis=1)\n",
    "\n",
    "answers = [a[0] for a in y]"
   ]
  },
  {
   "cell_type": "code",
   "execution_count": null,
   "id": "90c86df1-ea19-49ae-89c3-7af5a9a4e85d",
   "metadata": {
    "scrolled": true,
    "tags": []
   },
   "outputs": [],
   "source": [
    "class Model:\n",
    "    def __init__(self, X, y, output_size, hidden_layers, activation='sigmoid', optimizer='adam',\n",
    "                 hidden_size=None, loss_fn=keras.losses.SparseCategoricalCrossentropy(),\n",
    "                 metrics=('accuracy',)):\n",
    "        self.X, self.y = X, y\n",
    "        self.model = Sequential()\n",
    "        \n",
    "        size = len(X.iloc[0])\n",
    "        hidden_size = hidden_size if hidden_size else 2 * size // 3 + output_size\n",
    "        \n",
    "        self.model.add(Dense(hidden_size, input_shape=(size,), activation=activation))\n",
    "        for _ in range(hidden_layers - 1):\n",
    "            self.model.add(Dense(hidden_size, activation=activation))\n",
    "            \n",
    "        self.model.add(Dense(output_size, activation=activation))\n",
    "        \n",
    "        self.model.compile(loss=loss_fn, optimizer=optimizer, metrics=metrics)\n",
    "        \n",
    "    def fit(self, epochs=30, batch_size=10, verbose=1): self.model.fit(self.X, self.y, epochs=epochs, batch_size=batch_size, verbose=verbose)\n",
    "    \n",
    "    def score(self): return self.model.hist.history['accuracy'][-1]\n",
    "    \n",
    "    def get_errors(self): return list(zip(*[(answers[i], a) for i, a in enumerate([a.argmax() for a in self.model.predict(train)]) if a != y[i]]))\n",
    "    \n",
    "    def get_threshold(self, a, b, predictions, boolean=False):\n",
    "        error = [abs(x[a] - x[b]) for i, x in enumerate(predictions) if answers[i] in (a, b) and ((answers[i] == x.argmax()) == boolean)] \n",
    "        return sum(error) / len(error)\n",
    "    \n",
    "    def get_close(self, predictions, a, b, threshold=None):\n",
    "        threshold = threshold if threshold else self.get_threshold(a, b, predictions)\n",
    "        close = {i: train[i] for i, x in enumerate(predictions) if abs(x[a] - x[b]) < threshold}  # all inputs which were close\n",
    "        for i, data in close.items():\n",
    "            # use second model and save result, then edit predictions to have the new results\n",
    "            continue\n",
    "    \n",
    "    def display_row(i): Image.fromarray(np.reshape(np.array(X.iloc[i].values), (28, 28)).astype('uint8')).show()\n",
    "        \n",
    "    def save_output(self, data, output='predictions.csv'):\n",
    "        pd.DataFrame(columns=['ImageId', 'Label'], data=zip(range(1, len(data) + 1), [list(a).index(max(a)) for a in self.model.predict(data)])).to_csv(output, index=0)\n",
    "        ! kaggle competitions submit -c digit-recognizer -f $output -m \"\""
   ]
  },
  {
   "cell_type": "code",
   "execution_count": null,
   "id": "8104a1f1-a590-4deb-8baf-9b28e97825a3",
   "metadata": {
    "scrolled": true,
    "tags": []
   },
   "outputs": [],
   "source": [
    "model = Model(train, y, 10, 3, metrics=[keras.metrics.SparseCategoricalAccuracy()])\n",
    "model.fit(epochs=100, batch_size=42000, verbose=1)"
   ]
  },
  {
   "cell_type": "code",
   "execution_count": null,
   "id": "5aac2dbd-d46c-4b54-ad88-402aee5d9837",
   "metadata": {},
   "outputs": [],
   "source": [
    "model.save_output(test)"
   ]
  }
 ],
 "metadata": {
  "kernelspec": {
   "display_name": "Python 3 (ipykernel)",
   "language": "python",
   "name": "python3"
  },
  "language_info": {
   "codemirror_mode": {
    "name": "ipython",
    "version": 3
   },
   "file_extension": ".py",
   "mimetype": "text/x-python",
   "name": "python",
   "nbconvert_exporter": "python",
   "pygments_lexer": "ipython3",
   "version": "3.10.4"
  }
 },
 "nbformat": 4,
 "nbformat_minor": 5
}
