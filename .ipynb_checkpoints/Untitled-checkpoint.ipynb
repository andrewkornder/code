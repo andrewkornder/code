{
 "cells": [
  {
   "cell_type": "code",
   "execution_count": null,
   "id": "8dfe8c23-a0c2-489d-a2f6-858e1c103bd6",
   "metadata": {},
   "outputs": [],
   "source": [
    "import math\n",
    "\n",
    "\n",
    "class Robot:\n",
    "    def __init__(self, x, y, game):\n",
    "        self.x, self.y = x, y\n",
    "        self.game = game\n",
    "    \n",
    "    @property\n",
    "    def coords(self): return self.x, self.y\n",
    "    \n",
    "    def __repr__(self):\n",
    "        return 'R'\n",
    "    \n",
    "    def set_state(self, x, y):\n",
    "        self.game[self.y][self.x] = 0\n",
    "        self.x, self.y = x, y\n",
    "        self.game[y][x] = self\n",
    "        \n",
    "\n",
    "class Environment:\n",
    "    def __repr__(self):\n",
    "        return '\\n'.join(map(lambda row: ' '.join(map(lambda x: x.__repr__(), row)), self.state))\n",
    "    \n",
    "    def __init__(self, size):\n",
    "        self.size = size\n",
    "        self.state = [[0] * size for _ in range(size)]\n",
    "        \n",
    "        self.robot = Robot(0, 0, self.state)\n",
    "        self.robot.set_state(0, 0)\n",
    "        \n",
    "        self.goal = size, size\n",
    "    \n",
    "    def set_goal(self):\n",
    "        self.state[self.goal[1]][self.goal[0]] = 1 << 16\n",
    "        \n",
    "    def reset(self):\n",
    "        self.state = [[0] * size for _ in range(size)]\n",
    "        self.robot.set_state(0, 0)\n",
    "        self.set_goal()\n",
    "        \n",
    "    def get_pos(x, y):\n",
    "        if 0 <= x < self.size and 0 <= y < self.size:\n",
    "            return self.state[y][x]\n",
    "        return None\n",
    "    \n",
    "    def step(self):\n",
    "        self.state = []\n",
    "        action = max(self.get_actions(), key=self.get_score)\n",
    "        \n",
    "        self.robot.set_state(action)\n",
    "        \n",
    "    def get_score(self, action):\n",
    "        return 1 / (0.01 + math.dist(action, self.goal))\n",
    "    \n",
    "    def get_actions(self):\n",
    "        return [a for a in [\n",
    "            (self.robot.x - 1, self.robot.y),\n",
    "            (self.robot.x, self.robot.y - 1),\n",
    "            (self.robot.x + 1, self.robot.y),\n",
    "            (self.robot.x, self.robot.y + 1)\n",
    "        ] if self.get_pos(*a) is not None]"
   ]
  },
  {
   "cell_type": "code",
   "execution_count": null,
   "id": "d8881b06-30c6-43b1-b798-a78a5a36368a",
   "metadata": {},
   "outputs": [],
   "source": [
    "env = Environment(3)"
   ]
  },
  {
   "cell_type": "code",
   "execution_count": null,
   "id": "04e82daa-8ac1-4c8d-920a-061fb5f765a7",
   "metadata": {},
   "outputs": [],
   "source": [
    "print(env.get_actions())"
   ]
  },
  {
   "cell_type": "code",
   "execution_count": null,
   "id": "ae202acc-ebfd-4571-aa82-640f5715c6eb",
   "metadata": {},
   "outputs": [],
   "source": [
    "env.robot.set_state()"
   ]
  }
 ],
 "metadata": {
  "kernelspec": {
   "display_name": "Python 3 (ipykernel)",
   "language": "python",
   "name": "python3"
  },
  "language_info": {
   "codemirror_mode": {
    "name": "ipython",
    "version": 3
   },
   "file_extension": ".py",
   "mimetype": "text/x-python",
   "name": "python",
   "nbconvert_exporter": "python",
   "pygments_lexer": "ipython3",
   "version": "3.10.4"
  }
 },
 "nbformat": 4,
 "nbformat_minor": 5
}
